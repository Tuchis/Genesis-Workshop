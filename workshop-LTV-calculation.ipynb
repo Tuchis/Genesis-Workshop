{
 "cells": [
  {
   "cell_type": "markdown",
   "id": "9424b460",
   "metadata": {},
   "source": [
    "## Importing the libraries "
   ]
  },
  {
   "cell_type": "code",
   "execution_count": 4,
   "id": "c07fffb5",
   "metadata": {},
   "outputs": [],
   "source": [
    "import pandas as pd\n",
    "import numpy as np"
   ]
  },
  {
   "cell_type": "markdown",
   "id": "9e108dbd",
   "metadata": {},
   "source": [
    "## Load the data"
   ]
  },
  {
   "cell_type": "code",
   "execution_count": 24,
   "id": "a8d1bff4",
   "metadata": {},
   "outputs": [
    {
     "name": "stdout",
     "output_type": "stream",
     "text": [
      "35689.98000000072\n",
      "250898.86999992747\n",
      "0.12453373534947247\n",
      "0.1422484684766059\n",
      "0.1658387811024576\n"
     ]
    }
   ],
   "source": [
    "import re\n",
    "from sys import flags\n",
    "from weakref import ref\n",
    "\n",
    "\n",
    "path_to_file = 'workshop_orders.csv'  \n",
    "\n",
    "df = pd.read_csv(path_to_file)\n",
    "# print(df)\n",
    "grouped = {}\n",
    "# print(df[1,1])\n",
    "df = df[df.order_status != \"declined\"]\n",
    "for ind in df.index:\n",
    "    customer = df[\"customer_id\"][ind]\n",
    "    status = df[\"order_status\"][ind]\n",
    "    amount = df[\"order_amount\"][ind]\n",
    "    time_created = df[\"order_created_at\"][ind]\n",
    "    if customer in grouped:\n",
    "        grouped[customer].append((status, amount, time_created))\n",
    "    else:\n",
    "        grouped[customer] = [(status, amount, time_created)]\n",
    "# print(grouped.keys)\n",
    "all = 0\n",
    "full = 0\n",
    "refunded = 0\n",
    "gained = 0\n",
    "for key in grouped:\n",
    "    all += 1\n",
    "    user = grouped[key]\n",
    "    # print(user)\n",
    "    flag = False\n",
    "    for elem in user:\n",
    "        if elem[0] == \"refunded\":\n",
    "            refunded += elem[1]\n",
    "        elif elem[0] == \"approved\":\n",
    "            gained += elem[1]\n",
    "print(refunded)\n",
    "print(gained)\n",
    "print(refunded / (gained + refunded))\n",
    "print(refunded / (gained))\n",
    "print(refunded / (gained - refunded))\n",
    "\n",
    "    # print(f\"Key is {key} and value is {grouped[key]}\")\n",
    "# print(full)\n",
    "# print(all)\n",
    "# print(full/all)\n"
   ]
  },
  {
   "cell_type": "code",
   "execution_count": null,
   "id": "e6f2d72d",
   "metadata": {},
   "outputs": [],
   "source": []
  },
  {
   "cell_type": "markdown",
   "id": "bcb81a4c",
   "metadata": {},
   "source": [
    "## EDA"
   ]
  },
  {
   "cell_type": "code",
   "execution_count": 3,
   "id": "2ed56362",
   "metadata": {},
   "outputs": [],
   "source": [
    "df.head()"
   ]
  },
  {
   "cell_type": "code",
   "execution_count": 4,
   "id": "97fb6551",
   "metadata": {},
   "outputs": [],
   "source": [
    "df.info()"
   ]
  },
  {
   "cell_type": "code",
   "execution_count": 5,
   "id": "97035669",
   "metadata": {},
   "outputs": [],
   "source": [
    "df[\"order_amount\"].value_counts()"
   ]
  },
  {
   "cell_type": "code",
   "execution_count": 6,
   "id": "2a5075ff",
   "metadata": {},
   "outputs": [],
   "source": [
    "df[\"order_status\"].value_counts()"
   ]
  },
  {
   "cell_type": "code",
   "execution_count": 7,
   "id": "30aa4dc4",
   "metadata": {},
   "outputs": [],
   "source": [
    "df.isna().sum()"
   ]
  },
  {
   "cell_type": "code",
   "execution_count": 8,
   "id": "5c5fc47f",
   "metadata": {},
   "outputs": [],
   "source": [
    "set(df.duplicated())"
   ]
  },
  {
   "cell_type": "markdown",
   "id": "0b256d0e",
   "metadata": {},
   "source": [
    "## Data transformation"
   ]
  },
  {
   "cell_type": "markdown",
   "id": "ec9dcf2e",
   "metadata": {},
   "source": [
    "Delete declined transactions.\n"
   ]
  },
  {
   "cell_type": "code",
   "execution_count": null,
   "id": "095f4b33",
   "metadata": {},
   "outputs": [],
   "source": []
  },
  {
   "cell_type": "markdown",
   "id": "8dcf4908",
   "metadata": {},
   "source": [
    "For convenience, we will transform our data into single-user level (not single order)."
   ]
  },
  {
   "cell_type": "code",
   "execution_count": null,
   "id": "6577968e",
   "metadata": {},
   "outputs": [],
   "source": []
  },
  {
   "cell_type": "code",
   "execution_count": null,
   "id": "818ea066",
   "metadata": {},
   "outputs": [],
   "source": []
  },
  {
   "cell_type": "code",
   "execution_count": null,
   "id": "501a727f",
   "metadata": {},
   "outputs": [],
   "source": []
  },
  {
   "cell_type": "code",
   "execution_count": null,
   "id": "8cb0b680",
   "metadata": {},
   "outputs": [],
   "source": []
  },
  {
   "cell_type": "markdown",
   "id": "616540d8",
   "metadata": {},
   "source": [
    "## Calculating metrics"
   ]
  },
  {
   "cell_type": "code",
   "execution_count": 10,
   "id": "1a08f738",
   "metadata": {},
   "outputs": [],
   "source": [
    "res_metrics = {\n",
    "    \"CR_from_trial\": 0,\n",
    "    \"Refund_rate\": 0,\n",
    "    \"Rebill_rate\": 0,\n",
    "    \"Commisions\": 0\n",
    "}"
   ]
  },
  {
   "cell_type": "markdown",
   "id": "381ed593",
   "metadata": {},
   "source": [
    "CR from trial = number of converted to full charge users / total amount of users"
   ]
  },
  {
   "cell_type": "code",
   "execution_count": 11,
   "id": "e0440087",
   "metadata": {},
   "outputs": [],
   "source": [
    "res_metrics['CR_from_trial'] = # ...\n",
    "res_metrics['CR_from_trial']"
   ]
  },
  {
   "cell_type": "markdown",
   "id": "96ef0545",
   "metadata": {},
   "source": [
    "Refund rate = amount of refunded / total earned"
   ]
  },
  {
   "cell_type": "code",
   "execution_count": 12,
   "id": "8833aad4",
   "metadata": {},
   "outputs": [],
   "source": [
    "res_metrics['Refund_rate'] = # ...\n",
    "res_metrics['Refund_rate']"
   ]
  },
  {
   "cell_type": "markdown",
   "id": "d463e47c",
   "metadata": {},
   "source": [
    "Rebill rate:\n",
    "Rebill rate measures the number of times the average user will pay us for his recurring subscription. To calculate this metric over a 6-month horizon let’s assume that it will decrease each month in 0.7 times starting from the 2nd recurrent payment."
   ]
  },
  {
   "cell_type": "code",
   "execution_count": 13,
   "id": "1b24d9ee",
   "metadata": {},
   "outputs": [],
   "source": [
    "res_metrics['Rebill_rate'] = # ...\n",
    "res_metrics['Rebill_rate']"
   ]
  },
  {
   "cell_type": "markdown",
   "id": "9c0e187d",
   "metadata": {},
   "source": [
    "And add the commission (10%)"
   ]
  },
  {
   "cell_type": "code",
   "execution_count": 14,
   "id": "bf6d7dbc",
   "metadata": {},
   "outputs": [],
   "source": [
    "res_metrics['Commisions'] = 0.1"
   ]
  },
  {
   "cell_type": "code",
   "execution_count": 15,
   "id": "b26b0514",
   "metadata": {},
   "outputs": [],
   "source": [
    "res_metrics"
   ]
  },
  {
   "cell_type": "markdown",
   "id": "dea9b875",
   "metadata": {},
   "source": [
    "## Calculating LTV\n",
    "(0.99 + 29.99 * AA % * (1- BB %) * С.СС) * (1 - ZZ %) with AA % being the conversion rate, BB % - the refund rate, C.CC - the rebill rate and ZZ % - the commissions."
   ]
  },
  {
   "cell_type": "code",
   "execution_count": 16,
   "id": "60b4128f",
   "metadata": {},
   "outputs": [],
   "source": [
    "LTV = # ..."
   ]
  }
 ],
 "metadata": {
  "kernelspec": {
   "display_name": "Python 3.10.7 64-bit",
   "language": "python",
   "name": "python3"
  },
  "language_info": {
   "codemirror_mode": {
    "name": "ipython",
    "version": 3
   },
   "file_extension": ".py",
   "mimetype": "text/x-python",
   "name": "python",
   "nbconvert_exporter": "python",
   "pygments_lexer": "ipython3",
   "version": "3.10.7"
  },
  "vscode": {
   "interpreter": {
    "hash": "aee8b7b246df8f9039afb4144a1f6fd8d2ca17a180786b69acc140d282b71a49"
   }
  }
 },
 "nbformat": 4,
 "nbformat_minor": 5
}
